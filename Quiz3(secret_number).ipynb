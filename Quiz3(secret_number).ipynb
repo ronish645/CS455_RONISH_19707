{
  "nbformat": 4,
  "nbformat_minor": 0,
  "metadata": {
    "colab": {
      "provenance": [],
      "authorship_tag": "ABX9TyMumOfivUVB/NX0edgNqG/z",
      "include_colab_link": true
    },
    "kernelspec": {
      "name": "python3",
      "display_name": "Python 3"
    },
    "language_info": {
      "name": "python"
    }
  },
  "cells": [
    {
      "cell_type": "markdown",
      "metadata": {
        "id": "view-in-github",
        "colab_type": "text"
      },
      "source": [
        "<a href=\"https://colab.research.google.com/github/ronish645/CS455_RONISH_19707/blob/main/Quiz3(secret_number).ipynb\" target=\"_parent\"><img src=\"https://colab.research.google.com/assets/colab-badge.svg\" alt=\"Open In Colab\"/></a>"
      ]
    },
    {
      "cell_type": "code",
      "execution_count": 19,
      "metadata": {
        "id": "HLyocjmJQ8xc",
        "colab": {
          "base_uri": "https://localhost:8080/"
        },
        "collapsed": true,
        "outputId": "3b3541ce-5f1a-404b-cf7e-ca2881977af0"
      },
      "outputs": [
        {
          "output_type": "stream",
          "name": "stdout",
          "text": [
            "Guess the number between 1 and 10. You have 3 attempts.\n",
            "Attempt 1: Enter your guess: 5\n",
            "Your guess is low.\n",
            "Attempt 2: Enter your guess: 8\n",
            "Your guess is low.\n",
            "Attempt 3: Enter your guess: 9\n",
            "Congratulations! You guessed the number correctly.\n"
          ]
        }
      ],
      "source": [
        "import random\n",
        "\n",
        "def guessing_game():\n",
        "    # Generate a random number between 1 and 10\n",
        "    number = random.randint(1, 10)\n",
        "\n",
        "    print(\"Guess the number between 1 and 10. You have 3 attempts.\")\n",
        "\n",
        "    # Allow the user to guess up to three times\n",
        "    for i in range(1, 4):\n",
        "        guess = int(input(f\"Attempt {i}: Enter your guess: \"))\n",
        "\n",
        "        if guess < number:\n",
        "            print(\"Your guess is low.\")\n",
        "        elif guess > number:\n",
        "            print(\"Your guess is high.\")\n",
        "        else:\n",
        "            print(\"Congratulations! You guessed the number correctly.\")\n",
        "            break\n",
        "    else:\n",
        "        print(\"You've used all your attempts. The number was\",number)\n",
        "\n",
        "\n",
        "guessing_game()\n"
      ]
    }
  ]
}