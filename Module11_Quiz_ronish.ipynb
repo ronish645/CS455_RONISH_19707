{
  "nbformat": 4,
  "nbformat_minor": 0,
  "metadata": {
    "colab": {
      "provenance": [],
      "authorship_tag": "ABX9TyP8S8loituNENK2Zr5H95or",
      "include_colab_link": true
    },
    "kernelspec": {
      "name": "python3",
      "display_name": "Python 3"
    },
    "language_info": {
      "name": "python"
    }
  },
  "cells": [
    {
      "cell_type": "markdown",
      "metadata": {
        "id": "view-in-github",
        "colab_type": "text"
      },
      "source": [
        "<a href=\"https://colab.research.google.com/github/ronish645/CS455_RONISH_19707/blob/main/Module11_Quiz_ronish.ipynb\" target=\"_parent\"><img src=\"https://colab.research.google.com/assets/colab-badge.svg\" alt=\"Open In Colab\"/></a>"
      ]
    },
    {
      "cell_type": "code",
      "execution_count": 1,
      "metadata": {
        "colab": {
          "base_uri": "https://localhost:8080/"
        },
        "id": "Ogki05a1qIJg",
        "outputId": "dd970554-96b9-4d5e-f7f1-ecc6895c8b9a"
      },
      "outputs": [
        {
          "output_type": "stream",
          "name": "stdout",
          "text": [
            "Happy be World! Hello\n"
          ]
        }
      ],
      "source": [
        "def reverse_sentence(sentence):\n",
        "    # Splitting the sentence into words\n",
        "    words = sentence.split()\n",
        "    stack = []\n",
        "\n",
        "    # Pushing words into the stack\n",
        "    for word in words:\n",
        "        stack.append(word)\n",
        "\n",
        "    # Popping words from the stack to get them in reverse order\n",
        "    reversed_sentence = ''\n",
        "    while stack:\n",
        "        reversed_sentence += stack.pop() + ' '\n",
        "\n",
        "    # Removing the trailing space\n",
        "    return reversed_sentence.strip()\n",
        "\n",
        "sentence = \"Hello World! be Happy\"\n",
        "reversed_sentence = reverse_sentence(sentence)\n",
        "print(reversed_sentence)\n"
      ]
    },
    {
      "cell_type": "code",
      "source": [
        "import heapq\n",
        "\n",
        "class PriorityQueue:\n",
        "    def __init__(self, size):\n",
        "        self.queue = []\n",
        "        self.size = size\n",
        "\n",
        "    def is_empty(self):\n",
        "        return len(self.queue) == 0\n",
        "\n",
        "    def is_full(self):\n",
        "        return len(self.queue) >= self.size\n",
        "\n",
        "    def insert(self, item):\n",
        "        if self.is_full():\n",
        "            raise Exception(\"PriorityQueue is full\")\n",
        "        heapq.heappush(self.queue, item)\n",
        "\n",
        "    def remove(self):\n",
        "        if self.is_empty():\n",
        "            raise Exception(\"PriorityQueue is empty\")\n",
        "        return heapq.heappop(self.queue)\n",
        "\n",
        "    def peek(self):\n",
        "        if self.is_empty():\n",
        "            raise Exception(\"PriorityQueue is empty\")\n",
        "        return self.queue[0]\n",
        "\n",
        "    def get_size(self):\n",
        "        return len(self.queue)\n",
        "\n",
        "# Creating a priority queue of size 20\n",
        "pq = PriorityQueue(20)\n",
        "\n",
        "# Inserting elements\n",
        "pq.insert(10)\n",
        "pq.insert(5)\n",
        "pq.insert(30)\n",
        "pq.insert(20)\n",
        "\n",
        "# Removing elements\n",
        "print(pq.remove())  # Should print 5 because it is the smallest one\n",
        "print(pq.remove())  # Should print 10 because it will be the next smallest one after 5\n",
        "\n",
        "# Peeking the top element\n",
        "print(pq.peek())    # Should print 20 because it is the smallest one remaining\n",
        "\n",
        "# Getting current size\n",
        "print(pq.get_size())  # Should print 2\n"
      ],
      "metadata": {
        "colab": {
          "base_uri": "https://localhost:8080/"
        },
        "id": "ROQF22SbqNxB",
        "outputId": "66f8b35d-2216-47e4-81a7-a6b01a1eb312"
      },
      "execution_count": 3,
      "outputs": [
        {
          "output_type": "stream",
          "name": "stdout",
          "text": [
            "5\n",
            "10\n",
            "20\n",
            "2\n"
          ]
        }
      ]
    }
  ]
}