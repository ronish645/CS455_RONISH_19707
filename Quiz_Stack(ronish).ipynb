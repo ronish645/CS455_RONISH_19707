{
  "nbformat": 4,
  "nbformat_minor": 0,
  "metadata": {
    "colab": {
      "provenance": [],
      "authorship_tag": "ABX9TyPf2CmxxUmCI5Lm3h7u7nDQ",
      "include_colab_link": true
    },
    "kernelspec": {
      "name": "python3",
      "display_name": "Python 3"
    },
    "language_info": {
      "name": "python"
    }
  },
  "cells": [
    {
      "cell_type": "markdown",
      "metadata": {
        "id": "view-in-github",
        "colab_type": "text"
      },
      "source": [
        "<a href=\"https://colab.research.google.com/github/ronish645/CS455_RONISH_19707/blob/main/Quiz_Stack(ronish).ipynb\" target=\"_parent\"><img src=\"https://colab.research.google.com/assets/colab-badge.svg\" alt=\"Open In Colab\"/></a>"
      ]
    },
    {
      "cell_type": "code",
      "execution_count": 1,
      "metadata": {
        "colab": {
          "base_uri": "https://localhost:8080/"
        },
        "id": "tNB_MDQBa4Lq",
        "outputId": "7c7c7aa1-080e-4efd-f3af-97d4aaf33614"
      },
      "outputs": [
        {
          "output_type": "stream",
          "name": "stdout",
          "text": [
            "True\n",
            "False\n",
            "False\n"
          ]
        }
      ],
      "source": [
        "def is_balanced(expression):\n",
        "    # Step 1: Initialize an empty stack to keep track of opening brackets\n",
        "    stack = []\n",
        "\n",
        "    # Step 2: Define a dictionary to map closing brackets to their corresponding opening brackets\n",
        "    bracket_pair = {')': '(', ']': '[', '}': '{'}\n",
        "\n",
        "    # Step 3: Traverse through each character in the string\n",
        "    for char in expression:\n",
        "        # Step 3a: Check if the character is one of the closing brackets\n",
        "        if char in bracket_pair:\n",
        "            # Step 3b: Pop from the stack if it's not empty and the top of the stack matches the opening bracket\n",
        "            if stack and stack[-1] == bracket_pair[char]:\n",
        "                stack.pop()\n",
        "            else:\n",
        "                # Step 3c: If the stack is empty or the top does not match, return False indicating imbalance\n",
        "                return False\n",
        "\n",
        "        # Step 4: If it is an opening bracket, push it onto the stack\n",
        "        elif char in bracket_pair.values():\n",
        "            stack.append(char)\n",
        "\n",
        "        # Step 5: Ignore all other characters that are not brackets\n",
        "        else:\n",
        "            continue\n",
        "\n",
        "    # Step 6: If the stack is empty after processing all characters, brackets are balanced\n",
        "    return not stack\n",
        "\n",
        "# Example test cases\n",
        "print(is_balanced(\"( [] ( { () } [ () ] ) )\"))  # Output: True\n",
        "print(is_balanced(\"( [] ( { () } [ () ) ] )\"))  # Output: False\n",
        "print(is_balanced(\"([)]({)}\"))                  # Output: False\n",
        "\n"
      ]
    }
  ]
}