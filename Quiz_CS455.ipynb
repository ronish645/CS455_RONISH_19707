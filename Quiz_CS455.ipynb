{
  "nbformat": 4,
  "nbformat_minor": 0,
  "metadata": {
    "colab": {
      "provenance": [],
      "authorship_tag": "ABX9TyNHHDjGuOITUn6yj/Y4Fo5I",
      "include_colab_link": true
    },
    "kernelspec": {
      "name": "python3",
      "display_name": "Python 3"
    },
    "language_info": {
      "name": "python"
    }
  },
  "cells": [
    {
      "cell_type": "markdown",
      "metadata": {
        "id": "view-in-github",
        "colab_type": "text"
      },
      "source": [
        "<a href=\"https://colab.research.google.com/github/ronish645/CS455_RONISH_19707/blob/main/Quiz_CS455.ipynb\" target=\"_parent\"><img src=\"https://colab.research.google.com/assets/colab-badge.svg\" alt=\"Open In Colab\"/></a>"
      ]
    },
    {
      "cell_type": "code",
      "source": [
        "#Q.NO.1\n",
        "def find_sum(a,b):\n",
        "  return a+b\n",
        "\n",
        "find_sum(2,4)"
      ],
      "metadata": {
        "colab": {
          "base_uri": "https://localhost:8080/"
        },
        "id": "Oe2otXYLiHrp",
        "outputId": "98194676-5760-4bb4-e835-02ffcf3a7f84"
      },
      "execution_count": 11,
      "outputs": [
        {
          "output_type": "execute_result",
          "data": {
            "text/plain": [
              "6"
            ]
          },
          "metadata": {},
          "execution_count": 11
        }
      ]
    },
    {
      "cell_type": "code",
      "source": [
        "#Q.no.2\n",
        "def find_sum_three_int(a,b,c):\n",
        "  return a+b+c\n",
        "\n",
        "find_sum_three_int(2,4,5)"
      ],
      "metadata": {
        "colab": {
          "base_uri": "https://localhost:8080/"
        },
        "id": "9q0T8fIriJWB",
        "outputId": "266f91e9-3691-4df7-93b2-5023b2f3ac27"
      },
      "execution_count": 12,
      "outputs": [
        {
          "output_type": "execute_result",
          "data": {
            "text/plain": [
              "11"
            ]
          },
          "metadata": {},
          "execution_count": 12
        }
      ]
    },
    {
      "cell_type": "code",
      "execution_count": 16,
      "metadata": {
        "id": "sr2jGvE1fTdn"
      },
      "outputs": [],
      "source": [
        "#Q.no.3\n",
        "def find_max(lst):\n",
        "    max_val = lst[0]\n",
        "    for i in lst:\n",
        "        if i > max_val:\n",
        "            max_val = i\n",
        "\n",
        "    return max_val\n",
        "\n",
        "# Using the function\n",
        "lst = [3, 5, 1, 6, 99, 6]\n",
        "max_val = find_max(lst)\n",
        "print(\"Maximum:\", max_val)  # Output: Maximum: 99\n"
      ]
    },
    {
      "cell_type": "code",
      "source": [
        "#Q.no.4\n",
        "def find_min(lst):\n",
        "    min_val = lst[0]\n",
        "    for i in lst:\n",
        "        if i < min_val:\n",
        "            min_val = i\n",
        "    return min_val\n",
        "\n",
        "# Using the function\n",
        "lst = [3, 5, 1, 6, 99, 6]\n",
        "min_val = find_min(lst)\n",
        "print(\"Minimum:\", min_val)  # Output: Minimum: 1\n"
      ],
      "metadata": {
        "colab": {
          "base_uri": "https://localhost:8080/"
        },
        "id": "ZWjuJXhegI79",
        "outputId": "866fc7d2-7379-43b2-b313-d87b05737474"
      },
      "execution_count": 23,
      "outputs": [
        {
          "output_type": "stream",
          "name": "stdout",
          "text": [
            "Minimum: 1\n"
          ]
        }
      ]
    }
  ]
}