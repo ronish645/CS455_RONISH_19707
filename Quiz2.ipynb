{
  "nbformat": 4,
  "nbformat_minor": 0,
  "metadata": {
    "colab": {
      "provenance": [],
      "authorship_tag": "ABX9TyNqOGW2wZjpD0Zi7ksRsdRo",
      "include_colab_link": true
    },
    "kernelspec": {
      "name": "python3",
      "display_name": "Python 3"
    },
    "language_info": {
      "name": "python"
    }
  },
  "cells": [
    {
      "cell_type": "markdown",
      "metadata": {
        "id": "view-in-github",
        "colab_type": "text"
      },
      "source": [
        "<a href=\"https://colab.research.google.com/github/ronish645/CS455_RONISH_19707/blob/main/Quiz2.ipynb\" target=\"_parent\"><img src=\"https://colab.research.google.com/assets/colab-badge.svg\" alt=\"Open In Colab\"/></a>"
      ]
    },
    {
      "cell_type": "code",
      "execution_count": 6,
      "metadata": {
        "colab": {
          "base_uri": "https://localhost:8080/"
        },
        "id": "QdYHoC24puZR",
        "outputId": "25fb5675-6157-44d0-8e23-987981be60ef"
      },
      "outputs": [
        {
          "output_type": "stream",
          "name": "stdout",
          "text": [
            "Enter a string: Hi, how are you?\n",
            "h: 2\n",
            "i: 1\n",
            "o: 2\n",
            "w: 1\n",
            "a: 1\n",
            "r: 1\n",
            "e: 1\n",
            "y: 1\n",
            "u: 1\n"
          ]
        }
      ],
      "source": [
        "def count_letter(n):\n",
        "    letter_counts = {}\n",
        "\n",
        "    for letter in n:\n",
        "        if not letter.isalpha():  #ignore non-letter\n",
        "            continue\n",
        "        letter = letter.lower()\n",
        "        if letter in letter_counts:\n",
        "            letter_counts[letter] += 1\n",
        "        else:\n",
        "            letter_counts[letter] = 1\n",
        "\n",
        "    for letter, count in letter_counts.items():\n",
        "        print(f\"{letter}: {count}\")\n",
        "\n",
        "n = input(\"Enter a string: \")\n",
        "count_letter(n)\n"
      ]
    }
  ]
}